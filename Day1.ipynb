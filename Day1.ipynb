{
  "nbformat": 4,
  "nbformat_minor": 0,
  "metadata": {
    "colab": {
      "name": "Day1.ipynb",
      "provenance": [],
      "authorship_tag": "ABX9TyOOTH5cYMDqF/VeufZmMYsZ",
      "include_colab_link": true
    },
    "kernelspec": {
      "name": "python3",
      "display_name": "Python 3"
    }
  },
  "cells": [
    {
      "cell_type": "markdown",
      "metadata": {
        "id": "view-in-github",
        "colab_type": "text"
      },
      "source": [
        "<a href=\"https://colab.research.google.com/github/nishantanandsingh/Pythonpractice/blob/master/Day1.ipynb\" target=\"_parent\"><img src=\"https://colab.research.google.com/assets/colab-badge.svg\" alt=\"Open In Colab\"/></a>"
      ]
    },
    {
      "cell_type": "code",
      "metadata": {
        "id": "u0uQqOk6Jz3e",
        "colab_type": "code",
        "outputId": "5ffb8470-4c1c-480d-a387-5ddfe5144933",
        "colab": {
          "base_uri": "https://localhost:8080/",
          "height": 34
        }
      },
      "source": [
        "print(\"hello\")"
      ],
      "execution_count": 0,
      "outputs": [
        {
          "output_type": "stream",
          "text": [
            "hello\n"
          ],
          "name": "stdout"
        }
      ]
    },
    {
      "cell_type": "markdown",
      "metadata": {
        "id": "rVQN-oe0KdWa",
        "colab_type": "text"
      },
      "source": [
        "#commments in python\n"
      ]
    },
    {
      "cell_type": "code",
      "metadata": {
        "id": "khkyW-tJKiWv",
        "colab_type": "code",
        "outputId": "5667d707-e352-4edb-b09c-f340cead5041",
        "colab": {
          "base_uri": "https://localhost:8080/",
          "height": 34
        }
      },
      "source": [
        "#This is comment\n",
        "print('Hello')"
      ],
      "execution_count": 0,
      "outputs": [
        {
          "output_type": "stream",
          "text": [
            "Hello\n"
          ],
          "name": "stdout"
        }
      ]
    },
    {
      "cell_type": "markdown",
      "metadata": {
        "id": "oHvWlu1cKyf6",
        "colab_type": "text"
      },
      "source": [
        "#Data Types and Objects"
      ]
    },
    {
      "cell_type": "markdown",
      "metadata": {
        "id": "ICvj9cbJMmpc",
        "colab_type": "text"
      },
      "source": [
        "Data types are basic building block which we use to store diffrent kind of data  in python or any programming language"
      ]
    },
    {
      "cell_type": "code",
      "metadata": {
        "id": "4Bv7I0n2K5JW",
        "colab_type": "code",
        "outputId": "74fd4da6-7e5b-475d-e5a6-983aaa6f20aa",
        "colab": {
          "base_uri": "https://localhost:8080/",
          "height": 34
        }
      },
      "source": [
        "#integer = Whole  number\n",
        "num1 = 15\n",
        "num2 = 25\n",
        "sum1 = num1 + num2\n",
        "print(sum1)"
      ],
      "execution_count": 0,
      "outputs": [
        {
          "output_type": "stream",
          "text": [
            "40\n"
          ],
          "name": "stdout"
        }
      ]
    },
    {
      "cell_type": "code",
      "metadata": {
        "id": "5VU6YNLtNi9W",
        "colab_type": "code",
        "outputId": "81a7999e-8e78-42b6-b389-30f31ce8be15",
        "colab": {
          "base_uri": "https://localhost:8080/",
          "height": 34
        }
      },
      "source": [
        "#float = Decimal number\n",
        "num1 = 15.1\n",
        "num2 = 25.3\n",
        "sum2 = num1 + num2\n",
        "print(sum2)"
      ],
      "execution_count": 0,
      "outputs": [
        {
          "output_type": "stream",
          "text": [
            "40.4\n"
          ],
          "name": "stdout"
        }
      ]
    },
    {
      "cell_type": "code",
      "metadata": {
        "id": "jxLj0gesOA8f",
        "colab_type": "code",
        "outputId": "acab411a-5120-4ab7-e256-52a3ba60e642",
        "colab": {
          "base_uri": "https://localhost:8080/",
          "height": 34
        }
      },
      "source": [
        "#String = words\n",
        "str1 = \"Hello\"\n",
        "print(sum1)"
      ],
      "execution_count": 0,
      "outputs": [
        {
          "output_type": "stream",
          "text": [
            "40.4\n"
          ],
          "name": "stdout"
        }
      ]
    },
    {
      "cell_type": "code",
      "metadata": {
        "id": "9zLqExuBONKh",
        "colab_type": "code",
        "outputId": "42366c5c-9efb-4e43-a9f4-05b193e40b9e",
        "colab": {
          "base_uri": "https://localhost:8080/",
          "height": 34
        }
      },
      "source": [
        "#Chakin the data type\n",
        "type(sum1)"
      ],
      "execution_count": 0,
      "outputs": [
        {
          "output_type": "execute_result",
          "data": {
            "text/plain": [
              "float"
            ]
          },
          "metadata": {
            "tags": []
          },
          "execution_count": 15
        }
      ]
    },
    {
      "cell_type": "code",
      "metadata": {
        "id": "5fK0BTvSOi2w",
        "colab_type": "code",
        "outputId": "bdff94b4-6c65-4f46-ee85-b2db4876c614",
        "colab": {
          "base_uri": "https://localhost:8080/",
          "height": 34
        }
      },
      "source": [
        "type(sum2)"
      ],
      "execution_count": 0,
      "outputs": [
        {
          "output_type": "execute_result",
          "data": {
            "text/plain": [
              "float"
            ]
          },
          "metadata": {
            "tags": []
          },
          "execution_count": 12
        }
      ]
    },
    {
      "cell_type": "code",
      "metadata": {
        "id": "nG0pJQPTOjH3",
        "colab_type": "code",
        "outputId": "21f23d03-ca4f-4821-94c3-a15f3818b490",
        "colab": {
          "base_uri": "https://localhost:8080/",
          "height": 34
        }
      },
      "source": [
        "type(str1)\n"
      ],
      "execution_count": 0,
      "outputs": [
        {
          "output_type": "execute_result",
          "data": {
            "text/plain": [
              "str"
            ]
          },
          "metadata": {
            "tags": []
          },
          "execution_count": 14
        }
      ]
    },
    {
      "cell_type": "markdown",
      "metadata": {
        "id": "cSOdJLTBOttZ",
        "colab_type": "text"
      },
      "source": [
        "Advance Data Type\n"
      ]
    },
    {
      "cell_type": "markdown",
      "metadata": {
        "id": "TGBrdjZqOxML",
        "colab_type": "text"
      },
      "source": [
        "List  = Collaction of data types and variable\n"
      ]
    },
    {
      "cell_type": "code",
      "metadata": {
        "id": "E49AroI-PCVZ",
        "colab_type": "code",
        "outputId": "e82c6573-1aa3-4b1e-92d3-13dde39d042d",
        "colab": {
          "base_uri": "https://localhost:8080/",
          "height": 34
        }
      },
      "source": [
        "List1 = ['Hi',0,1.2,5,[\"Hello\",88,56.35]]\n",
        "print(List1)"
      ],
      "execution_count": 0,
      "outputs": [
        {
          "output_type": "stream",
          "text": [
            "['Hi', 0, 1.2, 5, ['Hello', 88, 56.35]]\n"
          ],
          "name": "stdout"
        }
      ]
    },
    {
      "cell_type": "code",
      "metadata": {
        "id": "Dpr9iwP6PVJC",
        "colab_type": "code",
        "outputId": "870e2954-4deb-4a7d-9bcf-c7b60e0fcf12",
        "colab": {
          "base_uri": "https://localhost:8080/",
          "height": 34
        }
      },
      "source": [
        "print(List1[2])"
      ],
      "execution_count": 0,
      "outputs": [
        {
          "output_type": "stream",
          "text": [
            "1.2\n"
          ],
          "name": "stdout"
        }
      ]
    },
    {
      "cell_type": "code",
      "metadata": {
        "id": "UBaE3e90Pewr",
        "colab_type": "code",
        "outputId": "599fd845-1703-4dcf-8c51-1f57649d3f51",
        "colab": {
          "base_uri": "https://localhost:8080/",
          "height": 34
        }
      },
      "source": [
        "List1.remove\n",
        "print(List1)"
      ],
      "execution_count": 0,
      "outputs": [
        {
          "output_type": "stream",
          "text": [
            "['Hi', 0, 1.2, 5, ['Hello', 88, 56.35]]\n"
          ],
          "name": "stdout"
        }
      ]
    },
    {
      "cell_type": "code",
      "metadata": {
        "id": "HT_Dm5ZIQMbD",
        "colab_type": "code",
        "colab": {}
      },
      "source": [
        "#dict  = it is a object where we can define key value pair, it is unsequenced\n",
        "house_name={\"SRK\":\"Mannat\",\"ambani\":\"antanlia\",\"Satchin\":\"Matushi\"}"
      ],
      "execution_count": 0,
      "outputs": []
    },
    {
      "cell_type": "code",
      "metadata": {
        "id": "_xFJJxacREwb",
        "colab_type": "code",
        "outputId": "d839e11c-5ced-4c28-c966-4726c960194d",
        "colab": {
          "base_uri": "https://localhost:8080/",
          "height": 34
        }
      },
      "source": [
        "print(type(house_name))"
      ],
      "execution_count": 0,
      "outputs": [
        {
          "output_type": "stream",
          "text": [
            "<class 'dict'>\n"
          ],
          "name": "stdout"
        }
      ]
    },
    {
      "cell_type": "code",
      "metadata": {
        "id": "j1LGKmEPRL4-",
        "colab_type": "code",
        "outputId": "384b7db0-1e79-44e3-dcc1-34da8d5b4603",
        "colab": {
          "base_uri": "https://localhost:8080/",
          "height": 34
        }
      },
      "source": [
        "print(house_name.get(\"SRK\"))"
      ],
      "execution_count": 0,
      "outputs": [
        {
          "output_type": "stream",
          "text": [
            "Mannat\n"
          ],
          "name": "stdout"
        }
      ]
    },
    {
      "cell_type": "code",
      "metadata": {
        "id": "YNbFDgbIRgrF",
        "colab_type": "code",
        "outputId": "22ef2988-1f4f-434e-f5d5-2a38e55a91d3",
        "colab": {
          "base_uri": "https://localhost:8080/",
          "height": 34
        }
      },
      "source": [
        "#sets = unorder collaction of unique Objects\n",
        "set1={7,8,8,9,5,8,58,0,64,5,78}\n",
        "print(set1)"
      ],
      "execution_count": 0,
      "outputs": [
        {
          "output_type": "stream",
          "text": [
            "{0, 64, 5, 7, 8, 9, 78, 58}\n"
          ],
          "name": "stdout"
        }
      ]
    },
    {
      "cell_type": "code",
      "metadata": {
        "id": "2qqJNKGdSQSC",
        "colab_type": "code",
        "outputId": "e96a6b18-75b9-4a56-d4f1-4090e0e77531",
        "colab": {
          "base_uri": "https://localhost:8080/",
          "height": 34
        }
      },
      "source": [
        "#Tuples = Orderd Immutable value \n",
        "birt = {1996,\"Jayangar\",\"home\"}\n",
        "print(birt)"
      ],
      "execution_count": 0,
      "outputs": [
        {
          "output_type": "stream",
          "text": [
            "{'home', 1996, 'Jayangar'}\n"
          ],
          "name": "stdout"
        }
      ]
    },
    {
      "cell_type": "code",
      "metadata": {
        "id": "ldRvGRX4Ty30",
        "colab_type": "code",
        "colab": {}
      },
      "source": [
        ""
      ],
      "execution_count": 0,
      "outputs": []
    },
    {
      "cell_type": "code",
      "metadata": {
        "id": "ameC66CLS3Kd",
        "colab_type": "code",
        "outputId": "8624a060-6699-412f-f350-03bf53894136",
        "colab": {
          "base_uri": "https://localhost:8080/",
          "height": 34
        }
      },
      "source": [
        "#boolen\n",
        " x = True\n",
        " x"
      ],
      "execution_count": 0,
      "outputs": [
        {
          "output_type": "execute_result",
          "data": {
            "text/plain": [
              "True"
            ]
          },
          "metadata": {
            "tags": []
          },
          "execution_count": 32
        }
      ]
    }
  ]
}